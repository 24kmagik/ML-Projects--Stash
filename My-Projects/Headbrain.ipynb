{
 "cells": [
  {
   "cell_type": "code",
   "execution_count": 2,
   "metadata": {},
   "outputs": [],
   "source": [
    "import numpy as np\n",
    "import pandas as pd\n",
    "import matplotlib.pyplot as plt\n",
    "import seaborn as sns\n",
    "%matplotlib inline"
   ]
  },
  {
   "cell_type": "code",
   "execution_count": 3,
   "metadata": {},
   "outputs": [],
   "source": [
    "df = pd.read_csv('../DATASETS/headbrain.csv')"
   ]
  },
  {
   "cell_type": "code",
   "execution_count": 4,
   "metadata": {},
   "outputs": [
    {
     "data": {
      "text/html": [
       "<div>\n",
       "<style scoped>\n",
       "    .dataframe tbody tr th:only-of-type {\n",
       "        vertical-align: middle;\n",
       "    }\n",
       "\n",
       "    .dataframe tbody tr th {\n",
       "        vertical-align: top;\n",
       "    }\n",
       "\n",
       "    .dataframe thead th {\n",
       "        text-align: right;\n",
       "    }\n",
       "</style>\n",
       "<table border=\"1\" class=\"dataframe\">\n",
       "  <thead>\n",
       "    <tr style=\"text-align: right;\">\n",
       "      <th></th>\n",
       "      <th>Gender</th>\n",
       "      <th>Age Range</th>\n",
       "      <th>Head Size(cm^3)</th>\n",
       "      <th>Brain Weight(grams)</th>\n",
       "    </tr>\n",
       "  </thead>\n",
       "  <tbody>\n",
       "    <tr>\n",
       "      <th>0</th>\n",
       "      <td>1</td>\n",
       "      <td>1</td>\n",
       "      <td>4512</td>\n",
       "      <td>1530</td>\n",
       "    </tr>\n",
       "    <tr>\n",
       "      <th>1</th>\n",
       "      <td>1</td>\n",
       "      <td>1</td>\n",
       "      <td>3738</td>\n",
       "      <td>1297</td>\n",
       "    </tr>\n",
       "    <tr>\n",
       "      <th>2</th>\n",
       "      <td>1</td>\n",
       "      <td>1</td>\n",
       "      <td>4261</td>\n",
       "      <td>1335</td>\n",
       "    </tr>\n",
       "    <tr>\n",
       "      <th>3</th>\n",
       "      <td>1</td>\n",
       "      <td>1</td>\n",
       "      <td>3777</td>\n",
       "      <td>1282</td>\n",
       "    </tr>\n",
       "    <tr>\n",
       "      <th>4</th>\n",
       "      <td>1</td>\n",
       "      <td>1</td>\n",
       "      <td>4177</td>\n",
       "      <td>1590</td>\n",
       "    </tr>\n",
       "  </tbody>\n",
       "</table>\n",
       "</div>"
      ],
      "text/plain": [
       "   Gender  Age Range  Head Size(cm^3)  Brain Weight(grams)\n",
       "0       1          1             4512                 1530\n",
       "1       1          1             3738                 1297\n",
       "2       1          1             4261                 1335\n",
       "3       1          1             3777                 1282\n",
       "4       1          1             4177                 1590"
      ]
     },
     "execution_count": 4,
     "metadata": {},
     "output_type": "execute_result"
    }
   ],
   "source": [
    "df.head()"
   ]
  },
  {
   "cell_type": "code",
   "execution_count": 5,
   "metadata": {},
   "outputs": [
    {
     "data": {
      "text/html": [
       "<div>\n",
       "<style scoped>\n",
       "    .dataframe tbody tr th:only-of-type {\n",
       "        vertical-align: middle;\n",
       "    }\n",
       "\n",
       "    .dataframe tbody tr th {\n",
       "        vertical-align: top;\n",
       "    }\n",
       "\n",
       "    .dataframe thead th {\n",
       "        text-align: right;\n",
       "    }\n",
       "</style>\n",
       "<table border=\"1\" class=\"dataframe\">\n",
       "  <thead>\n",
       "    <tr style=\"text-align: right;\">\n",
       "      <th></th>\n",
       "      <th>Gender</th>\n",
       "      <th>Age Range</th>\n",
       "      <th>Head Size(cm^3)</th>\n",
       "      <th>Brain Weight(grams)</th>\n",
       "    </tr>\n",
       "  </thead>\n",
       "  <tbody>\n",
       "    <tr>\n",
       "      <th>count</th>\n",
       "      <td>237.000000</td>\n",
       "      <td>237.000000</td>\n",
       "      <td>237.000000</td>\n",
       "      <td>237.000000</td>\n",
       "    </tr>\n",
       "    <tr>\n",
       "      <th>mean</th>\n",
       "      <td>1.434599</td>\n",
       "      <td>1.535865</td>\n",
       "      <td>3633.991561</td>\n",
       "      <td>1282.873418</td>\n",
       "    </tr>\n",
       "    <tr>\n",
       "      <th>std</th>\n",
       "      <td>0.496753</td>\n",
       "      <td>0.499768</td>\n",
       "      <td>365.261422</td>\n",
       "      <td>120.340446</td>\n",
       "    </tr>\n",
       "    <tr>\n",
       "      <th>min</th>\n",
       "      <td>1.000000</td>\n",
       "      <td>1.000000</td>\n",
       "      <td>2720.000000</td>\n",
       "      <td>955.000000</td>\n",
       "    </tr>\n",
       "    <tr>\n",
       "      <th>25%</th>\n",
       "      <td>1.000000</td>\n",
       "      <td>1.000000</td>\n",
       "      <td>3389.000000</td>\n",
       "      <td>1207.000000</td>\n",
       "    </tr>\n",
       "    <tr>\n",
       "      <th>50%</th>\n",
       "      <td>1.000000</td>\n",
       "      <td>2.000000</td>\n",
       "      <td>3614.000000</td>\n",
       "      <td>1280.000000</td>\n",
       "    </tr>\n",
       "    <tr>\n",
       "      <th>75%</th>\n",
       "      <td>2.000000</td>\n",
       "      <td>2.000000</td>\n",
       "      <td>3876.000000</td>\n",
       "      <td>1350.000000</td>\n",
       "    </tr>\n",
       "    <tr>\n",
       "      <th>max</th>\n",
       "      <td>2.000000</td>\n",
       "      <td>2.000000</td>\n",
       "      <td>4747.000000</td>\n",
       "      <td>1635.000000</td>\n",
       "    </tr>\n",
       "  </tbody>\n",
       "</table>\n",
       "</div>"
      ],
      "text/plain": [
       "           Gender   Age Range  Head Size(cm^3)  Brain Weight(grams)\n",
       "count  237.000000  237.000000       237.000000           237.000000\n",
       "mean     1.434599    1.535865      3633.991561          1282.873418\n",
       "std      0.496753    0.499768       365.261422           120.340446\n",
       "min      1.000000    1.000000      2720.000000           955.000000\n",
       "25%      1.000000    1.000000      3389.000000          1207.000000\n",
       "50%      1.000000    2.000000      3614.000000          1280.000000\n",
       "75%      2.000000    2.000000      3876.000000          1350.000000\n",
       "max      2.000000    2.000000      4747.000000          1635.000000"
      ]
     },
     "execution_count": 5,
     "metadata": {},
     "output_type": "execute_result"
    }
   ],
   "source": [
    "df.describe()"
   ]
  },
  {
   "cell_type": "code",
   "execution_count": 6,
   "metadata": {},
   "outputs": [
    {
     "name": "stdout",
     "output_type": "stream",
     "text": [
      "<class 'pandas.core.frame.DataFrame'>\n",
      "RangeIndex: 237 entries, 0 to 236\n",
      "Data columns (total 4 columns):\n",
      " #   Column               Non-Null Count  Dtype\n",
      "---  ------               --------------  -----\n",
      " 0   Gender               237 non-null    int64\n",
      " 1   Age Range            237 non-null    int64\n",
      " 2   Head Size(cm^3)      237 non-null    int64\n",
      " 3   Brain Weight(grams)  237 non-null    int64\n",
      "dtypes: int64(4)\n",
      "memory usage: 7.5 KB\n"
     ]
    }
   ],
   "source": [
    "df.info()"
   ]
  },
  {
   "cell_type": "code",
   "execution_count": 7,
   "metadata": {},
   "outputs": [
    {
     "data": {
      "text/plain": [
       "Gender                 0\n",
       "Age Range              0\n",
       "Head Size(cm^3)        0\n",
       "Brain Weight(grams)    0\n",
       "dtype: int64"
      ]
     },
     "execution_count": 7,
     "metadata": {},
     "output_type": "execute_result"
    }
   ],
   "source": [
    "df.isna().sum()"
   ]
  },
  {
   "cell_type": "code",
   "execution_count": 8,
   "metadata": {},
   "outputs": [
    {
     "data": {
      "text/plain": [
       "array([1, 2], dtype=int64)"
      ]
     },
     "execution_count": 8,
     "metadata": {},
     "output_type": "execute_result"
    }
   ],
   "source": [
    "df['Age Range'].unique()"
   ]
  },
  {
   "cell_type": "code",
   "execution_count": 20,
   "metadata": {},
   "outputs": [
    {
     "data": {
      "text/plain": [
       "<seaborn.axisgrid.PairGrid at 0x15bbaa7f7b8>"
      ]
     },
     "execution_count": 20,
     "metadata": {},
     "output_type": "execute_result"
    },
    {
     "data": {
      "image/png": "[encoded data removed]",
      "text/plain": [
       "<Figure size 582.375x540 with 12 Axes>"
      ]
     },
     "metadata": {
      "needs_background": "light"
     },
     "output_type": "display_data"
    }
   ],
   "source": [
    "sns.pairplot(df,hue='age')"
   ]
  },
  {
   "cell_type": "code",
   "execution_count": 9,
   "metadata": {},
   "outputs": [
    {
     "data": {
      "text/plain": [
       "<AxesSubplot:>"
      ]
     },
     "execution_count": 9,
     "metadata": {},
     "output_type": "execute_result"
    },
    {
     "data": {
      "image/png": "[encoded data removed]",
      "text/plain": [
       "<Figure size 432x288 with 2 Axes>"
      ]
     },
     "metadata": {
      "needs_background": "light"
     },
     "output_type": "display_data"
    }
   ],
   "source": [
    "sns.heatmap(df.corr(), annot=True, cmap='coolwarm')"
   ]
  },
  {
   "cell_type": "code",
   "execution_count": 10,
   "metadata": {},
   "outputs": [],
   "source": [
    "gender_dummies = pd.get_dummies(df['Gender'],drop_first=True)"
   ]
  },
  {
   "cell_type": "code",
   "execution_count": 11,
   "metadata": {},
   "outputs": [],
   "source": [
    "gender_dummies.columns = ['gender']"
   ]
  },
  {
   "cell_type": "code",
   "execution_count": 12,
   "metadata": {},
   "outputs": [],
   "source": [
    "df = pd.concat([df.drop('Gender', axis=1), gender_dummies],axis=1)"
   ]
  },
  {
   "cell_type": "code",
   "execution_count": 13,
   "metadata": {},
   "outputs": [
    {
     "data": {
      "text/html": [
       "<div>\n",
       "<style scoped>\n",
       "    .dataframe tbody tr th:only-of-type {\n",
       "        vertical-align: middle;\n",
       "    }\n",
       "\n",
       "    .dataframe tbody tr th {\n",
       "        vertical-align: top;\n",
       "    }\n",
       "\n",
       "    .dataframe thead th {\n",
       "        text-align: right;\n",
       "    }\n",
       "</style>\n",
       "<table border=\"1\" class=\"dataframe\">\n",
       "  <thead>\n",
       "    <tr style=\"text-align: right;\">\n",
       "      <th></th>\n",
       "      <th>Age Range</th>\n",
       "      <th>Head Size(cm^3)</th>\n",
       "      <th>Brain Weight(grams)</th>\n",
       "      <th>gender</th>\n",
       "    </tr>\n",
       "  </thead>\n",
       "  <tbody>\n",
       "    <tr>\n",
       "      <th>0</th>\n",
       "      <td>1</td>\n",
       "      <td>4512</td>\n",
       "      <td>1530</td>\n",
       "      <td>0</td>\n",
       "    </tr>\n",
       "    <tr>\n",
       "      <th>1</th>\n",
       "      <td>1</td>\n",
       "      <td>3738</td>\n",
       "      <td>1297</td>\n",
       "      <td>0</td>\n",
       "    </tr>\n",
       "    <tr>\n",
       "      <th>2</th>\n",
       "      <td>1</td>\n",
       "      <td>4261</td>\n",
       "      <td>1335</td>\n",
       "      <td>0</td>\n",
       "    </tr>\n",
       "    <tr>\n",
       "      <th>3</th>\n",
       "      <td>1</td>\n",
       "      <td>3777</td>\n",
       "      <td>1282</td>\n",
       "      <td>0</td>\n",
       "    </tr>\n",
       "    <tr>\n",
       "      <th>4</th>\n",
       "      <td>1</td>\n",
       "      <td>4177</td>\n",
       "      <td>1590</td>\n",
       "      <td>0</td>\n",
       "    </tr>\n",
       "  </tbody>\n",
       "</table>\n",
       "</div>"
      ],
      "text/plain": [
       "   Age Range  Head Size(cm^3)  Brain Weight(grams)  gender\n",
       "0          1             4512                 1530       0\n",
       "1          1             3738                 1297       0\n",
       "2          1             4261                 1335       0\n",
       "3          1             3777                 1282       0\n",
       "4          1             4177                 1590       0"
      ]
     },
     "execution_count": 13,
     "metadata": {},
     "output_type": "execute_result"
    }
   ],
   "source": [
    "df.head()"
   ]
  },
  {
   "cell_type": "code",
   "execution_count": 14,
   "metadata": {},
   "outputs": [],
   "source": [
    "age_dummies = pd.get_dummies(df['Age Range'],drop_first=True)\n",
    "age_dummies.columns = ['age']"
   ]
  },
  {
   "cell_type": "code",
   "execution_count": 15,
   "metadata": {},
   "outputs": [],
   "source": [
    "df = pd.concat([df.drop('Age Range', axis=1), age_dummies],axis=1)"
   ]
  },
  {
   "cell_type": "code",
   "execution_count": 16,
   "metadata": {},
   "outputs": [
    {
     "data": {
      "text/html": [
       "<div>\n",
       "<style scoped>\n",
       "    .dataframe tbody tr th:only-of-type {\n",
       "        vertical-align: middle;\n",
       "    }\n",
       "\n",
       "    .dataframe tbody tr th {\n",
       "        vertical-align: top;\n",
       "    }\n",
       "\n",
       "    .dataframe thead th {\n",
       "        text-align: right;\n",
       "    }\n",
       "</style>\n",
       "<table border=\"1\" class=\"dataframe\">\n",
       "  <thead>\n",
       "    <tr style=\"text-align: right;\">\n",
       "      <th></th>\n",
       "      <th>Head Size(cm^3)</th>\n",
       "      <th>Brain Weight(grams)</th>\n",
       "      <th>gender</th>\n",
       "      <th>age</th>\n",
       "    </tr>\n",
       "  </thead>\n",
       "  <tbody>\n",
       "    <tr>\n",
       "      <th>0</th>\n",
       "      <td>4512</td>\n",
       "      <td>1530</td>\n",
       "      <td>0</td>\n",
       "      <td>0</td>\n",
       "    </tr>\n",
       "    <tr>\n",
       "      <th>1</th>\n",
       "      <td>3738</td>\n",
       "      <td>1297</td>\n",
       "      <td>0</td>\n",
       "      <td>0</td>\n",
       "    </tr>\n",
       "    <tr>\n",
       "      <th>2</th>\n",
       "      <td>4261</td>\n",
       "      <td>1335</td>\n",
       "      <td>0</td>\n",
       "      <td>0</td>\n",
       "    </tr>\n",
       "    <tr>\n",
       "      <th>3</th>\n",
       "      <td>3777</td>\n",
       "      <td>1282</td>\n",
       "      <td>0</td>\n",
       "      <td>0</td>\n",
       "    </tr>\n",
       "    <tr>\n",
       "      <th>4</th>\n",
       "      <td>4177</td>\n",
       "      <td>1590</td>\n",
       "      <td>0</td>\n",
       "      <td>0</td>\n",
       "    </tr>\n",
       "  </tbody>\n",
       "</table>\n",
       "</div>"
      ],
      "text/plain": [
       "   Head Size(cm^3)  Brain Weight(grams)  gender  age\n",
       "0             4512                 1530       0    0\n",
       "1             3738                 1297       0    0\n",
       "2             4261                 1335       0    0\n",
       "3             3777                 1282       0    0\n",
       "4             4177                 1590       0    0"
      ]
     },
     "execution_count": 16,
     "metadata": {},
     "output_type": "execute_result"
    }
   ],
   "source": [
    "df.head()"
   ]
  },
  {
   "cell_type": "code",
   "execution_count": 17,
   "metadata": {},
   "outputs": [],
   "source": [
    "from sklearn.model_selection import train_test_split"
   ]
  },
  {
   "cell_type": "code",
   "execution_count": 21,
   "metadata": {},
   "outputs": [],
   "source": [
    "X = df.drop(['Brain Weight(grams)', 'age'],axis=1)\n",
    "y = df['Brain Weight(grams)']"
   ]
  },
  {
   "cell_type": "code",
   "execution_count": 22,
   "metadata": {},
   "outputs": [],
   "source": [
    "X_train, X_test, y_train, y_test = train_test_split(X, y, test_size=0.3)"
   ]
  },
  {
   "cell_type": "code",
   "execution_count": 23,
   "metadata": {},
   "outputs": [],
   "source": [
    "from sklearn.preprocessing import StandardScaler"
   ]
  },
  {
   "cell_type": "code",
   "execution_count": 64,
   "metadata": {},
   "outputs": [],
   "source": [
    "scaler = StandardScaler()"
   ]
  },
  {
   "cell_type": "code",
   "execution_count": 65,
   "metadata": {},
   "outputs": [
    {
     "data": {
      "text/plain": [
       "(165, 3)"
      ]
     },
     "execution_count": 65,
     "metadata": {},
     "output_type": "execute_result"
    }
   ],
   "source": [
    "X_train = scaler.fit_transform(X_train)\n",
    "X_test = scaler.transform(X_test)\n",
    "X_train.shape"
   ]
  },
  {
   "cell_type": "code",
   "execution_count": 24,
   "metadata": {},
   "outputs": [],
   "source": [
    "from sklearn.linear_model import LinearRegression"
   ]
  },
  {
   "cell_type": "code",
   "execution_count": 25,
   "metadata": {},
   "outputs": [],
   "source": [
    "lm = LinearRegression()"
   ]
  },
  {
   "cell_type": "code",
   "execution_count": 26,
   "metadata": {},
   "outputs": [
    {
     "data": {
      "text/plain": [
       "LinearRegression()"
      ]
     },
     "execution_count": 26,
     "metadata": {},
     "output_type": "execute_result"
    }
   ],
   "source": [
    "lm.fit(X_train,y_train)"
   ]
  },
  {
   "cell_type": "code",
   "execution_count": 27,
   "metadata": {},
   "outputs": [],
   "source": [
    "pred = lm.predict(X_test)"
   ]
  },
  {
   "cell_type": "code",
   "execution_count": 28,
   "metadata": {},
   "outputs": [],
   "source": [
    "loss = pred-y_test"
   ]
  },
  {
   "cell_type": "code",
   "execution_count": 29,
   "metadata": {},
   "outputs": [],
   "source": [
    "from sklearn.metrics import mean_absolute_error, mean_squared_error"
   ]
  },
  {
   "cell_type": "code",
   "execution_count": 30,
   "metadata": {},
   "outputs": [
    {
     "name": "stdout",
     "output_type": "stream",
     "text": [
      "60.748560823703166\n",
      "6259.129006502411\n",
      "79.11465734301332\n"
     ]
    }
   ],
   "source": [
    "print(mean_absolute_error(y_test, pred))\n",
    "print(mean_squared_error(y_test, pred))\n",
    "print(mean_squared_error(y_test, pred)**0.5)"
   ]
  },
  {
   "cell_type": "code",
   "execution_count": 33,
   "metadata": {},
   "outputs": [
    {
     "name": "stderr",
     "output_type": "stream",
     "text": [
      "C:\\Users\\karth\\anaconda3\\envs\\tenflow\\lib\\site-packages\\seaborn\\_decorators.py:43: FutureWarning: Pass the following variables as keyword args: x, y. From version 0.12, the only valid positional argument will be `data`, and passing other arguments without an explicit keyword will result in an error or misinterpretation.\n",
      "  FutureWarning\n"
     ]
    },
    {
     "data": {
      "text/plain": [
       "<AxesSubplot:xlabel='Brain Weight(grams)'>"
      ]
     },
     "execution_count": 33,
     "metadata": {},
     "output_type": "execute_result"
    },
    {
     "data": {
      "image/png": "[encoded data removed]",
      "text/plain": [
       "<Figure size 432x288 with 1 Axes>"
      ]
     },
     "metadata": {
      "needs_background": "light"
     },
     "output_type": "display_data"
    }
   ],
   "source": [
    "sns.scatterplot(y_test,pred)"
   ]
  },
  {
   "cell_type": "code",
   "execution_count": 34,
   "metadata": {},
   "outputs": [],
   "source": [
    "from tensorflow.keras.models import Sequential\n",
    "from tensorflow.keras.layers import Dense\n",
    "from tensorflow.keras.callbacks import EarlyStopping"
   ]
  },
  {
   "cell_type": "code",
   "execution_count": 81,
   "metadata": {},
   "outputs": [],
   "source": [
    "mdl = Sequential()\n",
    "mdl.add(Dense(units=2,activation='relu'))\n",
    "mdl.add(Dense(units=1,activation='relu'))\n",
    "mdl.compile(loss='mse', optimizer='adam')"
   ]
  },
  {
   "cell_type": "code",
   "execution_count": 79,
   "metadata": {},
   "outputs": [],
   "source": [
    "early_stop = EarlyStopping(monitor='val_loss', mode='min', verbose=1, patience=15)"
   ]
  },
  {
   "cell_type": "code",
   "execution_count": 82,
   "metadata": {},
   "outputs": [
    {
     "name": "stdout",
     "output_type": "stream",
     "text": [
      "Train on 165 samples, validate on 72 samples\n",
      "Epoch 1/600\n",
      "165/165 [==============================] - 1s 4ms/sample - loss: 7978758.6939 - val_loss: 7811862.8333\n",
      "Epoch 2/600\n",
      "165/165 [==============================] - 0s 121us/sample - loss: 7717321.2121 - val_loss: 7555202.0000\n",
      "Epoch 3/600\n",
      "165/165 [==============================] - 0s 121us/sample - loss: 7465798.3333 - val_loss: 7303845.0000\n",
      "Epoch 4/600\n",
      "165/165 [==============================] - 0s 121us/sample - loss: 7218575.6545 - val_loss: 7060664.3333\n",
      "Epoch 5/600\n",
      "165/165 [==============================] - 0s 145us/sample - loss: 6977335.6091 - val_loss: 6824354.8889\n",
      "Epoch 6/600\n",
      "165/165 [==============================] - 0s 145us/sample - loss: 6744366.1758 - val_loss: 6594384.8333\n",
      "Epoch 7/600\n",
      "165/165 [==============================] - 0s 146us/sample - loss: 6516452.2485 - val_loss: 6371919.3889\n",
      "Epoch 8/600\n",
      "165/165 [==============================] - 0s 145us/sample - loss: 6298809.0909 - val_loss: 6155876.2222\n",
      "Epoch 9/600\n",
      "165/165 [==============================] - 0s 145us/sample - loss: 6086609.4909 - val_loss: 5948330.8889\n",
      "Epoch 10/600\n",
      "165/165 [==============================] - 0s 145us/sample - loss: 5883928.6121 - val_loss: 5749815.0556\n",
      "Epoch 11/600\n",
      "165/165 [==============================] - 0s 146us/sample - loss: 5688118.4909 - val_loss: 5560166.3889\n",
      "Epoch 12/600\n",
      "165/165 [==============================] - 0s 145us/sample - loss: 5500370.9636 - val_loss: 5376324.3333\n",
      "Epoch 13/600\n",
      "165/165 [==============================] - 0s 152us/sample - loss: 5318467.8515 - val_loss: 5196776.3333\n",
      "Epoch 14/600\n",
      "165/165 [==============================] - 0s 145us/sample - loss: 5142690.8909 - val_loss: 5023100.0556\n",
      "Epoch 15/600\n",
      "165/165 [==============================] - 0s 115us/sample - loss: 4970535.4606 - val_loss: 4854949.8889\n",
      "Epoch 16/600\n",
      "165/165 [==============================] - 0s 121us/sample - loss: 4805452.0333 - val_loss: 4692747.2778\n",
      "Epoch 17/600\n",
      "165/165 [==============================] - 0s 121us/sample - loss: 4645031.8303 - val_loss: 4535487.5556\n",
      "Epoch 18/600\n",
      "165/165 [==============================] - 0s 128us/sample - loss: 4489262.9606 - val_loss: 4382016.0000\n",
      "Epoch 19/600\n",
      "165/165 [==============================] - 0s 141us/sample - loss: 4338776.3288 - val_loss: 4234026.7778\n",
      "Epoch 20/600\n",
      "165/165 [==============================] - 0s 125us/sample - loss: 4193823.0545 - val_loss: 4092415.1111\n",
      "Epoch 21/600\n",
      "165/165 [==============================] - 0s 121us/sample - loss: 4054009.0682 - val_loss: 3956628.0556\n",
      "Epoch 22/600\n",
      "165/165 [==============================] - 0s 121us/sample - loss: 3920132.4848 - val_loss: 3825281.3889\n",
      "Epoch 23/600\n",
      "165/165 [==============================] - 0s 119us/sample - loss: 3790210.2212 - val_loss: 3697305.7778\n",
      "Epoch 24/600\n",
      "165/165 [==============================] - 0s 145us/sample - loss: 3664011.2242 - val_loss: 3573792.0000\n",
      "Epoch 25/600\n",
      "165/165 [==============================] - 0s 145us/sample - loss: 3542152.1242 - val_loss: 3454683.6944\n",
      "Epoch 26/600\n",
      "165/165 [==============================] - 0s 125us/sample - loss: 3425011.5379 - val_loss: 3339317.5556\n",
      "Epoch 27/600\n",
      "165/165 [==============================] - 0s 121us/sample - loss: 3310675.6576 - val_loss: 3227418.0000\n",
      "Epoch 28/600\n",
      "165/165 [==============================] - 0s 121us/sample - loss: 3200299.6818 - val_loss: 3119500.1944\n",
      "Epoch 29/600\n",
      "165/165 [==============================] - 0s 145us/sample - loss: 3093807.4318 - val_loss: 3015361.5000\n",
      "Epoch 30/600\n",
      "165/165 [==============================] - 0s 145us/sample - loss: 2991468.0939 - val_loss: 2914646.8333\n",
      "Epoch 31/600\n",
      "165/165 [==============================] - 0s 126us/sample - loss: 2891090.5106 - val_loss: 2816890.5556\n",
      "Epoch 32/600\n",
      "165/165 [==============================] - 0s 141us/sample - loss: 2795253.7470 - val_loss: 2722300.9444\n",
      "Epoch 33/600\n",
      "165/165 [==============================] - 0s 121us/sample - loss: 2701850.0697 - val_loss: 2631411.8056\n",
      "Epoch 34/600\n",
      "165/165 [==============================] - 0s 121us/sample - loss: 2612576.7470 - val_loss: 2544106.6667\n",
      "Epoch 35/600\n",
      "165/165 [==============================] - 0s 121us/sample - loss: 2526354.8955 - val_loss: 2460003.4444\n",
      "Epoch 36/600\n",
      "165/165 [==============================] - 0s 121us/sample - loss: 2442718.0955 - val_loss: 2377936.1389\n",
      "Epoch 37/600\n",
      "165/165 [==============================] - 0s 121us/sample - loss: 2361574.1318 - val_loss: 2298503.0000\n",
      "Epoch 38/600\n",
      "165/165 [==============================] - 0s 121us/sample - loss: 2283507.8758 - val_loss: 2221258.5556\n",
      "Epoch 39/600\n",
      "165/165 [==============================] - 0s 121us/sample - loss: 2206871.0879 - val_loss: 2146344.5278\n",
      "Epoch 40/600\n",
      "165/165 [==============================] - 0s 147us/sample - loss: 2133070.3833 - val_loss: 2074149.9167\n",
      "Epoch 41/600\n",
      "165/165 [==============================] - 0s 145us/sample - loss: 2061680.9636 - val_loss: 2004716.5972\n",
      "Epoch 42/600\n",
      "165/165 [==============================] - 0s 145us/sample - loss: 1993914.6545 - val_loss: 1937718.5833\n",
      "Epoch 43/600\n",
      "165/165 [==============================] - 0s 121us/sample - loss: 1927618.1394 - val_loss: 1873867.0556\n",
      "Epoch 44/600\n",
      "165/165 [==============================] - 0s 144us/sample - loss: 1864627.7280 - val_loss: 1811985.1389\n",
      "Epoch 45/600\n",
      "165/165 [==============================] - 0s 145us/sample - loss: 1803308.4576 - val_loss: 1752263.4722\n",
      "Epoch 46/600\n",
      "165/165 [==============================] - 0s 145us/sample - loss: 1744235.0879 - val_loss: 1694782.6667\n",
      "Epoch 47/600\n",
      "165/165 [==============================] - 0s 127us/sample - loss: 1687530.9992 - val_loss: 1637990.5556\n",
      "Epoch 48/600\n",
      "165/165 [==============================] - 0s 141us/sample - loss: 1631035.5621 - val_loss: 1583656.1528\n",
      "Epoch 49/600\n",
      "165/165 [==============================] - 0s 145us/sample - loss: 1577425.4447 - val_loss: 1530765.0417\n",
      "Epoch 50/600\n",
      "165/165 [==============================] - 0s 121us/sample - loss: 1525066.4955 - val_loss: 1480126.1111\n",
      "Epoch 51/600\n",
      "165/165 [==============================] - 0s 145us/sample - loss: 1474886.7295 - val_loss: 1431513.2083\n",
      "Epoch 52/600\n",
      "165/165 [==============================] - 0s 145us/sample - loss: 1426864.2326 - val_loss: 1383964.0278\n",
      "Epoch 53/600\n",
      "165/165 [==============================] - 0s 121us/sample - loss: 1379675.5439 - val_loss: 1338029.7083\n",
      "Epoch 54/600\n",
      "165/165 [==============================] - 0s 145us/sample - loss: 1334518.1591 - val_loss: 1293576.7222\n",
      "Epoch 55/600\n",
      "165/165 [==============================] - 0s 145us/sample - loss: 1290619.1326 - val_loss: 1250600.7778\n",
      "Epoch 56/600\n",
      "165/165 [==============================] - 0s 145us/sample - loss: 1247639.4061 - val_loss: 1209245.2222\n",
      "Epoch 57/600\n",
      "165/165 [==============================] - 0s 146us/sample - loss: 1206731.3417 - val_loss: 1169036.5833\n",
      "Epoch 58/600\n",
      "165/165 [==============================] - 0s 121us/sample - loss: 1167085.1269 - val_loss: 1130217.0833\n",
      "Epoch 59/600\n",
      "165/165 [==============================] - 0s 121us/sample - loss: 1128720.4970 - val_loss: 1093121.2500\n",
      "Epoch 60/600\n",
      "165/165 [==============================] - 0s 145us/sample - loss: 1091894.0985 - val_loss: 1057173.8889\n",
      "Epoch 61/600\n",
      "165/165 [==============================] - 0s 145us/sample - loss: 1056279.5583 - val_loss: 1022137.5694\n",
      "Epoch 62/600\n",
      "165/165 [==============================] - 0s 121us/sample - loss: 1021533.0008 - val_loss: 988112.3056\n",
      "Epoch 63/600\n",
      "165/165 [==============================] - 0s 121us/sample - loss: 987665.3265 - val_loss: 955328.4514\n",
      "Epoch 64/600\n",
      "165/165 [==============================] - 0s 147us/sample - loss: 955326.6295 - val_loss: 923313.1806\n",
      "Epoch 65/600\n",
      "165/165 [==============================] - 0s 144us/sample - loss: 923859.5523 - val_loss: 892780.1528\n",
      "Epoch 66/600\n",
      "165/165 [==============================] - 0s 121us/sample - loss: 893464.4784 - val_loss: 863261.0417\n",
      "Epoch 67/600\n",
      "165/165 [==============================] - 0s 121us/sample - loss: 864198.2515 - val_loss: 834798.1875\n",
      "Epoch 68/600\n",
      "165/165 [==============================] - 0s 121us/sample - loss: 835838.8144 - val_loss: 806937.1389\n",
      "Epoch 69/600\n",
      "165/165 [==============================] - 0s 145us/sample - loss: 807957.3985 - val_loss: 779995.8750\n",
      "Epoch 70/600\n"
     ]
    },
    {
     "name": "stdout",
     "output_type": "stream",
     "text": [
      "165/165 [==============================] - 0s 146us/sample - loss: 781160.6068 - val_loss: 753568.3819\n",
      "Epoch 71/600\n",
      "165/165 [==============================] - 0s 145us/sample - loss: 755040.3788 - val_loss: 728175.3056\n",
      "Epoch 72/600\n",
      "165/165 [==============================] - 0s 145us/sample - loss: 729986.2432 - val_loss: 703830.6736\n",
      "Epoch 73/600\n",
      "165/165 [==============================] - 0s 145us/sample - loss: 705870.5197 - val_loss: 680313.3194\n",
      "Epoch 74/600\n",
      "165/165 [==============================] - 0s 121us/sample - loss: 682187.3492 - val_loss: 657748.7639\n",
      "Epoch 75/600\n",
      "165/165 [==============================] - 0s 121us/sample - loss: 660021.3625 - val_loss: 635599.8194\n",
      "Epoch 76/600\n",
      "165/165 [==============================] - 0s 145us/sample - loss: 638122.5938 - val_loss: 614470.7639\n",
      "Epoch 77/600\n",
      "165/165 [==============================] - 0s 121us/sample - loss: 617181.1693 - val_loss: 594201.6528\n",
      "Epoch 78/600\n",
      "165/165 [==============================] - 0s 147us/sample - loss: 596983.7087 - val_loss: 574599.4722\n",
      "Epoch 79/600\n",
      "165/165 [==============================] - 0s 121us/sample - loss: 577508.8193 - val_loss: 555727.9583\n",
      "Epoch 80/600\n",
      "165/165 [==============================] - 0s 121us/sample - loss: 558577.4155 - val_loss: 537281.2778\n",
      "Epoch 81/600\n",
      "165/165 [==============================] - 0s 145us/sample - loss: 540402.0549 - val_loss: 519383.8472\n",
      "Epoch 82/600\n",
      "165/165 [==============================] - 0s 145us/sample - loss: 522465.6426 - val_loss: 501963.8264\n",
      "Epoch 83/600\n",
      "165/165 [==============================] - 0s 120us/sample - loss: 505028.6398 - val_loss: 485133.1007\n",
      "Epoch 84/600\n",
      "165/165 [==============================] - 0s 121us/sample - loss: 488196.1820 - val_loss: 468839.5139\n",
      "Epoch 85/600\n",
      "165/165 [==============================] - 0s 121us/sample - loss: 472204.2790 - val_loss: 453000.4271\n",
      "Epoch 86/600\n",
      "165/165 [==============================] - 0s 145us/sample - loss: 456434.1364 - val_loss: 437727.4583\n",
      "Epoch 87/600\n",
      "165/165 [==============================] - 0s 122us/sample - loss: 441142.8608 - val_loss: 422948.3125\n",
      "Epoch 88/600\n",
      "165/165 [==============================] - 0s 121us/sample - loss: 426296.4769 - val_loss: 408735.6632\n",
      "Epoch 89/600\n",
      "165/165 [==============================] - 0s 145us/sample - loss: 412130.4108 - val_loss: 394674.6458\n",
      "Epoch 90/600\n",
      "165/165 [==============================] - 0s 145us/sample - loss: 398083.7350 - val_loss: 381172.8403\n",
      "Epoch 91/600\n",
      "165/165 [==============================] - 0s 123us/sample - loss: 384807.2633 - val_loss: 368160.2118\n",
      "Epoch 92/600\n",
      "165/165 [==============================] - 0s 121us/sample - loss: 371722.3125 - val_loss: 355584.5590\n",
      "Epoch 93/600\n",
      "165/165 [==============================] - 0s 145us/sample - loss: 359253.7231 - val_loss: 343611.4271\n",
      "Epoch 94/600\n",
      "165/165 [==============================] - 0s 145us/sample - loss: 347372.2011 - val_loss: 332076.3611\n",
      "Epoch 95/600\n",
      "165/165 [==============================] - 0s 145us/sample - loss: 335867.1437 - val_loss: 320887.6319\n",
      "Epoch 96/600\n",
      "165/165 [==============================] - 0s 145us/sample - loss: 324624.3273 - val_loss: 310137.1944\n",
      "Epoch 97/600\n",
      "165/165 [==============================] - 0s 121us/sample - loss: 313834.8492 - val_loss: 299646.0938\n",
      "Epoch 98/600\n",
      "165/165 [==============================] - 0s 121us/sample - loss: 303400.2591 - val_loss: 289528.1458\n",
      "Epoch 99/600\n",
      "165/165 [==============================] - 0s 121us/sample - loss: 293329.8405 - val_loss: 279743.8819\n",
      "Epoch 100/600\n",
      "165/165 [==============================] - 0s 146us/sample - loss: 283440.3888 - val_loss: 270144.9028\n",
      "Epoch 101/600\n",
      "165/165 [==============================] - 0s 121us/sample - loss: 273891.0778 - val_loss: 260771.0069\n",
      "Epoch 102/600\n",
      "165/165 [==============================] - 0s 145us/sample - loss: 264537.9178 - val_loss: 251813.5799\n",
      "Epoch 103/600\n",
      "165/165 [==============================] - 0s 145us/sample - loss: 255609.6218 - val_loss: 243201.3681\n",
      "Epoch 104/600\n",
      "165/165 [==============================] - 0s 121us/sample - loss: 247031.7553 - val_loss: 234987.8837\n",
      "Epoch 105/600\n",
      "165/165 [==============================] - 0s 133us/sample - loss: 238695.5277 - val_loss: 227070.7257\n",
      "Epoch 106/600\n",
      "165/165 [==============================] - 0s 145us/sample - loss: 230731.8714 - val_loss: 219298.6337\n",
      "Epoch 107/600\n",
      "165/165 [==============================] - 0s 146us/sample - loss: 222937.0589 - val_loss: 211707.2222\n",
      "Epoch 108/600\n",
      "165/165 [==============================] - 0s 121us/sample - loss: 215358.4530 - val_loss: 204424.0469\n",
      "Epoch 109/600\n",
      "165/165 [==============================] - 0s 157us/sample - loss: 208141.8073 - val_loss: 197402.1441\n",
      "Epoch 110/600\n",
      "165/165 [==============================] - 0s 145us/sample - loss: 201088.7015 - val_loss: 190674.3038\n",
      "Epoch 111/600\n",
      "165/165 [==============================] - 0s 145us/sample - loss: 194315.5298 - val_loss: 184035.0122\n",
      "Epoch 112/600\n",
      "165/165 [==============================] - 0s 145us/sample - loss: 187580.6313 - val_loss: 177775.6476\n",
      "Epoch 113/600\n",
      "165/165 [==============================] - 0s 121us/sample - loss: 181432.1085 - val_loss: 171652.1389\n",
      "Epoch 114/600\n",
      "165/165 [==============================] - 0s 121us/sample - loss: 175231.9408 - val_loss: 165835.8472\n",
      "Epoch 115/600\n",
      "165/165 [==============================] - 0s 121us/sample - loss: 169337.4195 - val_loss: 160184.0833\n",
      "Epoch 116/600\n",
      "165/165 [==============================] - 0s 145us/sample - loss: 163700.3951 - val_loss: 154679.7778\n",
      "Epoch 117/600\n",
      "165/165 [==============================] - 0s 121us/sample - loss: 158129.3652 - val_loss: 149349.9618\n",
      "Epoch 118/600\n",
      "165/165 [==============================] - 0s 121us/sample - loss: 152836.6144 - val_loss: 144276.9601\n",
      "Epoch 119/600\n",
      "165/165 [==============================] - 0s 121us/sample - loss: 147676.5294 - val_loss: 139446.4601\n",
      "Epoch 120/600\n",
      "165/165 [==============================] - 0s 121us/sample - loss: 142795.5253 - val_loss: 134676.8715\n",
      "Epoch 121/600\n",
      "165/165 [==============================] - 0s 147us/sample - loss: 137963.2119 - val_loss: 130051.3733\n",
      "Epoch 122/600\n",
      "165/165 [==============================] - 0s 121us/sample - loss: 133350.4886 - val_loss: 125511.4410\n",
      "Epoch 123/600\n",
      "165/165 [==============================] - 0s 145us/sample - loss: 128767.2814 - val_loss: 121203.8472\n",
      "Epoch 124/600\n",
      "165/165 [==============================] - 0s 145us/sample - loss: 124433.4516 - val_loss: 117020.7726\n",
      "Epoch 125/600\n",
      "165/165 [==============================] - 0s 145us/sample - loss: 120181.7329 - val_loss: 112997.5399\n",
      "Epoch 126/600\n",
      "165/165 [==============================] - 0s 147us/sample - loss: 116167.3754 - val_loss: 109137.8455\n",
      "Epoch 127/600\n",
      "165/165 [==============================] - 0s 145us/sample - loss: 112246.1894 - val_loss: 105446.6493\n",
      "Epoch 128/600\n",
      "165/165 [==============================] - 0s 121us/sample - loss: 108456.7788 - val_loss: 101855.0356\n",
      "Epoch 129/600\n",
      "165/165 [==============================] - 0s 121us/sample - loss: 104820.8726 - val_loss: 98340.9540\n",
      "Epoch 130/600\n",
      "165/165 [==============================] - 0s 145us/sample - loss: 101296.9921 - val_loss: 94887.4983\n",
      "Epoch 131/600\n",
      "165/165 [==============================] - 0s 145us/sample - loss: 97791.3292 - val_loss: 91635.3941\n",
      "Epoch 132/600\n",
      "165/165 [==============================] - 0s 121us/sample - loss: 94494.4256 - val_loss: 88513.5260\n",
      "Epoch 133/600\n",
      "165/165 [==============================] - 0s 121us/sample - loss: 91273.7309 - val_loss: 85446.9627\n",
      "Epoch 134/600\n",
      "165/165 [==============================] - 0s 146us/sample - loss: 88162.7448 - val_loss: 82453.8663\n",
      "Epoch 135/600\n",
      "165/165 [==============================] - 0s 121us/sample - loss: 85166.9792 - val_loss: 79598.3403\n",
      "Epoch 136/600\n",
      "165/165 [==============================] - 0s 145us/sample - loss: 82276.3389 - val_loss: 76882.1007\n",
      "Epoch 137/600\n",
      "165/165 [==============================] - 0s 145us/sample - loss: 79518.2110 - val_loss: 74240.3420\n",
      "Epoch 138/600\n",
      "165/165 [==============================] - 0s 121us/sample - loss: 76797.3398 - val_loss: 71704.6007\n",
      "Epoch 139/600\n",
      "165/165 [==============================] - 0s 121us/sample - loss: 74251.6771 - val_loss: 69249.0564\n",
      "Epoch 140/600\n"
     ]
    },
    {
     "name": "stdout",
     "output_type": "stream",
     "text": [
      "165/165 [==============================] - 0s 121us/sample - loss: 71746.0000 - val_loss: 66902.2700\n",
      "Epoch 141/600\n",
      "165/165 [==============================] - 0s 121us/sample - loss: 69344.6878 - val_loss: 64674.0104\n",
      "Epoch 142/600\n",
      "165/165 [==============================] - 0s 121us/sample - loss: 67074.0127 - val_loss: 62484.9887\n",
      "Epoch 143/600\n",
      "165/165 [==============================] - 0s 123us/sample - loss: 64854.4304 - val_loss: 60338.5451\n",
      "Epoch 144/600\n",
      "165/165 [==============================] - 0s 145us/sample - loss: 62642.2021 - val_loss: 58319.9557\n",
      "Epoch 145/600\n",
      "165/165 [==============================] - 0s 121us/sample - loss: 60598.7690 - val_loss: 56337.6806\n",
      "Epoch 146/600\n",
      "165/165 [==============================] - 0s 121us/sample - loss: 58569.1496 - val_loss: 54460.9983\n",
      "Epoch 147/600\n",
      "165/165 [==============================] - 0s 145us/sample - loss: 56628.9646 - val_loss: 52620.9792\n",
      "Epoch 148/600\n",
      "165/165 [==============================] - 0s 146us/sample - loss: 54743.2196 - val_loss: 50850.9453\n",
      "Epoch 149/600\n",
      "165/165 [==============================] - 0s 145us/sample - loss: 52958.3168 - val_loss: 49108.9575\n",
      "Epoch 150/600\n",
      "165/165 [==============================] - 0s 145us/sample - loss: 51120.4852 - val_loss: 47484.6671\n",
      "Epoch 151/600\n",
      "165/165 [==============================] - 0s 145us/sample - loss: 49477.0608 - val_loss: 45916.3438\n",
      "Epoch 152/600\n",
      "165/165 [==============================] - 0s 146us/sample - loss: 47859.3268 - val_loss: 44409.1667\n",
      "Epoch 153/600\n",
      "165/165 [==============================] - 0s 145us/sample - loss: 46310.0131 - val_loss: 42936.5243\n",
      "Epoch 154/600\n",
      "165/165 [==============================] - 0s 121us/sample - loss: 44777.6490 - val_loss: 41530.6328\n",
      "Epoch 155/600\n",
      "165/165 [==============================] - 0s 121us/sample - loss: 43312.6462 - val_loss: 40175.9227\n",
      "Epoch 156/600\n",
      "165/165 [==============================] - 0s 121us/sample - loss: 41934.2006 - val_loss: 38859.6888\n",
      "Epoch 157/600\n",
      "165/165 [==============================] - 0s 121us/sample - loss: 40584.2916 - val_loss: 37581.3047\n",
      "Epoch 158/600\n",
      "165/165 [==============================] - 0s 145us/sample - loss: 39258.9181 - val_loss: 36358.7426\n",
      "Epoch 159/600\n",
      "165/165 [==============================] - 0s 121us/sample - loss: 37998.1652 - val_loss: 35191.5846\n",
      "Epoch 160/600\n",
      "165/165 [==============================] - 0s 121us/sample - loss: 36768.0209 - val_loss: 34061.9193\n",
      "Epoch 161/600\n",
      "165/165 [==============================] - 0s 145us/sample - loss: 35610.1480 - val_loss: 32987.2700\n",
      "Epoch 162/600\n",
      "165/165 [==============================] - 0s 145us/sample - loss: 34504.2030 - val_loss: 31932.2357\n",
      "Epoch 163/600\n",
      "165/165 [==============================] - 0s 145us/sample - loss: 33399.1300 - val_loss: 30936.2682\n",
      "Epoch 164/600\n",
      "165/165 [==============================] - 0s 145us/sample - loss: 32352.3056 - val_loss: 29955.3754\n",
      "Epoch 165/600\n",
      "165/165 [==============================] - 0s 145us/sample - loss: 31322.8246 - val_loss: 29007.3581\n",
      "Epoch 166/600\n",
      "165/165 [==============================] - 0s 121us/sample - loss: 30340.0565 - val_loss: 28112.8845\n",
      "Epoch 167/600\n",
      "165/165 [==============================] - 0s 121us/sample - loss: 29404.8896 - val_loss: 27250.3581\n",
      "Epoch 168/600\n",
      "165/165 [==============================] - 0s 145us/sample - loss: 28490.2048 - val_loss: 26409.8325\n",
      "Epoch 169/600\n",
      "165/165 [==============================] - 0s 145us/sample - loss: 27605.7628 - val_loss: 25596.6263\n",
      "Epoch 170/600\n",
      "165/165 [==============================] - 0s 121us/sample - loss: 26757.7540 - val_loss: 24825.0792\n",
      "Epoch 171/600\n",
      "165/165 [==============================] - 0s 121us/sample - loss: 25934.4080 - val_loss: 24068.0065\n",
      "Epoch 172/600\n",
      "165/165 [==============================] - 0s 121us/sample - loss: 25153.2062 - val_loss: 23347.5833\n",
      "Epoch 173/600\n",
      "165/165 [==============================] - 0s 145us/sample - loss: 24392.1569 - val_loss: 22645.0250\n",
      "Epoch 174/600\n",
      "165/165 [==============================] - 0s 145us/sample - loss: 23656.3478 - val_loss: 21978.8856\n",
      "Epoch 175/600\n",
      "165/165 [==============================] - 0s 121us/sample - loss: 22953.4851 - val_loss: 21340.0004\n",
      "Epoch 176/600\n",
      "165/165 [==============================] - 0s 145us/sample - loss: 22284.2592 - val_loss: 20725.0401\n",
      "Epoch 177/600\n",
      "165/165 [==============================] - 0s 145us/sample - loss: 21611.7126 - val_loss: 20155.5703\n",
      "Epoch 178/600\n",
      "165/165 [==============================] - 0s 121us/sample - loss: 21015.3845 - val_loss: 19600.6918\n",
      "Epoch 179/600\n",
      "165/165 [==============================] - 0s 145us/sample - loss: 20429.5849 - val_loss: 19064.8181\n",
      "Epoch 180/600\n",
      "165/165 [==============================] - 0s 145us/sample - loss: 19848.2366 - val_loss: 18546.4028\n",
      "Epoch 181/600\n",
      "165/165 [==============================] - 0s 138us/sample - loss: 19301.9190 - val_loss: 18032.8316\n",
      "Epoch 182/600\n",
      "165/165 [==============================] - 0s 145us/sample - loss: 18734.4954 - val_loss: 17551.9323\n",
      "Epoch 183/600\n",
      "165/165 [==============================] - 0s 145us/sample - loss: 18219.3038 - val_loss: 17087.9145\n",
      "Epoch 184/600\n",
      "165/165 [==============================] - 0s 145us/sample - loss: 17740.7015 - val_loss: 16632.4538\n",
      "Epoch 185/600\n",
      "165/165 [==============================] - 0s 121us/sample - loss: 17241.0490 - val_loss: 16210.0592\n",
      "Epoch 186/600\n",
      "165/165 [==============================] - 0s 121us/sample - loss: 16771.3320 - val_loss: 15793.3281\n",
      "Epoch 187/600\n",
      "165/165 [==============================] - 0s 145us/sample - loss: 16331.1864 - val_loss: 15390.0176\n",
      "Epoch 188/600\n",
      "165/165 [==============================] - 0s 145us/sample - loss: 15896.6982 - val_loss: 15003.8153\n",
      "Epoch 189/600\n",
      "165/165 [==============================] - 0s 121us/sample - loss: 15478.2867 - val_loss: 14641.9345\n",
      "Epoch 190/600\n",
      "165/165 [==============================] - 0s 123us/sample - loss: 15086.1659 - val_loss: 14292.9742\n",
      "Epoch 191/600\n",
      "165/165 [==============================] - 0s 121us/sample - loss: 14695.7283 - val_loss: 13953.4631\n",
      "Epoch 192/600\n",
      "165/165 [==============================] - 0s 121us/sample - loss: 14327.2109 - val_loss: 13624.2181\n",
      "Epoch 193/600\n",
      "165/165 [==============================] - 0s 121us/sample - loss: 13976.4158 - val_loss: 13311.6868\n",
      "Epoch 194/600\n",
      "165/165 [==============================] - 0s 145us/sample - loss: 13625.7446 - val_loss: 13020.8411\n",
      "Epoch 195/600\n",
      "165/165 [==============================] - 0s 145us/sample - loss: 13303.6060 - val_loss: 12743.9839\n",
      "Epoch 196/600\n",
      "165/165 [==============================] - 0s 145us/sample - loss: 12998.6160 - val_loss: 12468.5781\n",
      "Epoch 197/600\n",
      "165/165 [==============================] - 0s 121us/sample - loss: 12690.0910 - val_loss: 12207.3362\n",
      "Epoch 198/600\n",
      "165/165 [==============================] - 0s 145us/sample - loss: 12394.9836 - val_loss: 11959.7681\n",
      "Epoch 199/600\n",
      "165/165 [==============================] - 0s 146us/sample - loss: 12125.8974 - val_loss: 11715.1746\n",
      "Epoch 200/600\n",
      "165/165 [==============================] - 0s 128us/sample - loss: 11862.6741 - val_loss: 11480.5714\n",
      "Epoch 201/600\n",
      "165/165 [==============================] - 0s 121us/sample - loss: 11588.2708 - val_loss: 11268.0778\n",
      "Epoch 202/600\n",
      "165/165 [==============================] - 0s 121us/sample - loss: 11353.3749 - val_loss: 11059.4718\n",
      "Epoch 203/600\n",
      "165/165 [==============================] - 0s 114us/sample - loss: 11118.9876 - val_loss: 10856.7316\n",
      "Epoch 204/600\n",
      "165/165 [==============================] - 0s 121us/sample - loss: 10892.6544 - val_loss: 10665.6953\n",
      "Epoch 205/600\n",
      "165/165 [==============================] - 0s 145us/sample - loss: 10669.4647 - val_loss: 10488.6773\n",
      "Epoch 206/600\n",
      "165/165 [==============================] - 0s 121us/sample - loss: 10463.5745 - val_loss: 10319.9950\n",
      "Epoch 207/600\n",
      "165/165 [==============================] - 0s 121us/sample - loss: 10274.1770 - val_loss: 10151.1623\n",
      "Epoch 208/600\n",
      "165/165 [==============================] - 0s 145us/sample - loss: 10077.1624 - val_loss: 9997.9488\n",
      "Epoch 209/600\n",
      "165/165 [==============================] - 0s 145us/sample - loss: 9910.6151 - val_loss: 9851.2680\n",
      "Epoch 210/600\n",
      "165/165 [==============================] - 0s 121us/sample - loss: 9744.4239 - val_loss: 9719.6926\n",
      "Epoch 211/600\n"
     ]
    },
    {
     "name": "stdout",
     "output_type": "stream",
     "text": [
      "165/165 [==============================] - 0s 121us/sample - loss: 9584.7555 - val_loss: 9595.6712\n",
      "Epoch 212/600\n",
      "165/165 [==============================] - 0s 147us/sample - loss: 9437.1840 - val_loss: 9473.3423\n",
      "Epoch 213/600\n",
      "165/165 [==============================] - 0s 121us/sample - loss: 9282.2730 - val_loss: 9348.2322\n",
      "Epoch 214/600\n",
      "165/165 [==============================] - 0s 121us/sample - loss: 9143.3117 - val_loss: 9223.0607\n",
      "Epoch 215/600\n",
      "165/165 [==============================] - 0s 145us/sample - loss: 8982.9658 - val_loss: 9095.7727\n",
      "Epoch 216/600\n",
      "165/165 [==============================] - 0s 125us/sample - loss: 8835.6570 - val_loss: 8970.4613\n",
      "Epoch 217/600\n",
      "165/165 [==============================] - 0s 145us/sample - loss: 8691.5578 - val_loss: 8855.2875\n",
      "Epoch 218/600\n",
      "165/165 [==============================] - 0s 121us/sample - loss: 8549.5404 - val_loss: 8747.1538\n",
      "Epoch 219/600\n",
      "165/165 [==============================] - 0s 121us/sample - loss: 8421.7373 - val_loss: 8648.3908\n",
      "Epoch 220/600\n",
      "165/165 [==============================] - 0s 145us/sample - loss: 8306.0434 - val_loss: 8550.0877\n",
      "Epoch 221/600\n",
      "165/165 [==============================] - 0s 145us/sample - loss: 8188.3069 - val_loss: 8461.3449\n",
      "Epoch 222/600\n",
      "165/165 [==============================] - 0s 145us/sample - loss: 8077.2376 - val_loss: 8384.1967\n",
      "Epoch 223/600\n",
      "165/165 [==============================] - 0s 121us/sample - loss: 7982.6973 - val_loss: 8310.1215\n",
      "Epoch 224/600\n",
      "165/165 [==============================] - 0s 121us/sample - loss: 7893.6360 - val_loss: 8233.2842\n",
      "Epoch 225/600\n",
      "165/165 [==============================] - 0s 122us/sample - loss: 7789.9407 - val_loss: 8162.5028\n",
      "Epoch 226/600\n",
      "165/165 [==============================] - 0s 121us/sample - loss: 7700.9363 - val_loss: 8094.6337\n",
      "Epoch 227/600\n",
      "165/165 [==============================] - 0s 121us/sample - loss: 7614.9357 - val_loss: 8031.2854\n",
      "Epoch 228/600\n",
      "165/165 [==============================] - 0s 145us/sample - loss: 7534.0601 - val_loss: 7964.9596\n",
      "Epoch 229/600\n",
      "165/165 [==============================] - 0s 143us/sample - loss: 7449.0141 - val_loss: 7912.4151\n",
      "Epoch 230/600\n",
      "165/165 [==============================] - 0s 121us/sample - loss: 7386.9730 - val_loss: 7866.6324\n",
      "Epoch 231/600\n",
      "165/165 [==============================] - 0s 121us/sample - loss: 7331.3841 - val_loss: 7821.3903\n",
      "Epoch 232/600\n",
      "165/165 [==============================] - 0s 121us/sample - loss: 7265.7948 - val_loss: 7778.2259\n",
      "Epoch 233/600\n",
      "165/165 [==============================] - 0s 121us/sample - loss: 7205.8595 - val_loss: 7731.4035\n",
      "Epoch 234/600\n",
      "165/165 [==============================] - 0s 121us/sample - loss: 7145.4217 - val_loss: 7687.9488\n",
      "Epoch 235/600\n",
      "165/165 [==============================] - 0s 145us/sample - loss: 7082.1908 - val_loss: 7648.3186\n",
      "Epoch 236/600\n",
      "165/165 [==============================] - 0s 145us/sample - loss: 7025.0768 - val_loss: 7603.5278\n",
      "Epoch 237/600\n",
      "165/165 [==============================] - 0s 145us/sample - loss: 6966.6748 - val_loss: 7562.7387\n",
      "Epoch 238/600\n",
      "165/165 [==============================] - 0s 145us/sample - loss: 6908.4127 - val_loss: 7522.6629\n",
      "Epoch 239/600\n",
      "165/165 [==============================] - 0s 145us/sample - loss: 6844.3230 - val_loss: 7485.4475\n",
      "Epoch 240/600\n",
      "165/165 [==============================] - 0s 145us/sample - loss: 6798.2814 - val_loss: 7450.4488\n",
      "Epoch 241/600\n",
      "165/165 [==============================] - 0s 145us/sample - loss: 6753.4190 - val_loss: 7419.5263\n",
      "Epoch 242/600\n",
      "165/165 [==============================] - 0s 145us/sample - loss: 6706.7624 - val_loss: 7395.3152\n",
      "Epoch 243/600\n",
      "165/165 [==============================] - 0s 145us/sample - loss: 6672.9973 - val_loss: 7372.9060\n",
      "Epoch 244/600\n",
      "165/165 [==============================] - 0s 145us/sample - loss: 6637.0956 - val_loss: 7350.4068\n",
      "Epoch 245/600\n",
      "165/165 [==============================] - 0s 121us/sample - loss: 6603.1276 - val_loss: 7328.2963\n",
      "Epoch 246/600\n",
      "165/165 [==============================] - 0s 121us/sample - loss: 6567.5491 - val_loss: 7306.9820\n",
      "Epoch 247/600\n",
      "165/165 [==============================] - 0s 145us/sample - loss: 6533.1418 - val_loss: 7284.8271\n",
      "Epoch 248/600\n",
      "165/165 [==============================] - 0s 121us/sample - loss: 6495.0796 - val_loss: 7264.3521\n",
      "Epoch 249/600\n",
      "165/165 [==============================] - 0s 145us/sample - loss: 6464.5755 - val_loss: 7244.8952\n",
      "Epoch 250/600\n",
      "165/165 [==============================] - 0s 121us/sample - loss: 6434.1810 - val_loss: 7229.6490\n",
      "Epoch 251/600\n",
      "165/165 [==============================] - 0s 121us/sample - loss: 6407.0270 - val_loss: 7216.3974\n",
      "Epoch 252/600\n",
      "165/165 [==============================] - 0s 121us/sample - loss: 6386.0098 - val_loss: 7204.2799\n",
      "Epoch 253/600\n",
      "165/165 [==============================] - 0s 145us/sample - loss: 6363.7068 - val_loss: 7190.7823\n",
      "Epoch 254/600\n",
      "165/165 [==============================] - 0s 121us/sample - loss: 6340.0937 - val_loss: 7177.3697\n",
      "Epoch 255/600\n",
      "165/165 [==============================] - 0s 121us/sample - loss: 6313.9735 - val_loss: 7166.3877\n",
      "Epoch 256/600\n",
      "165/165 [==============================] - 0s 121us/sample - loss: 6294.5639 - val_loss: 7153.7803\n",
      "Epoch 257/600\n",
      "165/165 [==============================] - 0s 145us/sample - loss: 6270.4323 - val_loss: 7143.7587\n",
      "Epoch 258/600\n",
      "165/165 [==============================] - 0s 145us/sample - loss: 6249.5858 - val_loss: 7134.8817\n",
      "Epoch 259/600\n",
      "165/165 [==============================] - 0s 121us/sample - loss: 6230.7837 - val_loss: 7126.1246\n",
      "Epoch 260/600\n",
      "165/165 [==============================] - 0s 121us/sample - loss: 6213.3728 - val_loss: 7117.9818\n",
      "Epoch 261/600\n",
      "165/165 [==============================] - 0s 145us/sample - loss: 6196.3288 - val_loss: 7110.0203\n",
      "Epoch 262/600\n",
      "165/165 [==============================] - 0s 121us/sample - loss: 6179.3272 - val_loss: 7103.6039\n",
      "Epoch 263/600\n",
      "165/165 [==============================] - 0s 121us/sample - loss: 6166.1558 - val_loss: 7098.3433\n",
      "Epoch 264/600\n",
      "165/165 [==============================] - 0s 145us/sample - loss: 6152.0703 - val_loss: 7092.9608\n",
      "Epoch 265/600\n",
      "165/165 [==============================] - 0s 145us/sample - loss: 6136.5591 - val_loss: 7087.1993\n",
      "Epoch 266/600\n",
      "165/165 [==============================] - 0s 145us/sample - loss: 6124.6988 - val_loss: 7081.0158\n",
      "Epoch 267/600\n",
      "165/165 [==============================] - 0s 145us/sample - loss: 6106.8459 - val_loss: 7076.2631\n",
      "Epoch 268/600\n",
      "165/165 [==============================] - 0s 121us/sample - loss: 6093.2147 - val_loss: 7072.0303\n",
      "Epoch 269/600\n",
      "165/165 [==============================] - 0s 121us/sample - loss: 6079.5473 - val_loss: 7068.2095\n",
      "Epoch 270/600\n",
      "165/165 [==============================] - 0s 121us/sample - loss: 6068.2914 - val_loss: 7064.6957\n",
      "Epoch 271/600\n",
      "165/165 [==============================] - 0s 145us/sample - loss: 6053.6970 - val_loss: 7061.8359\n",
      "Epoch 272/600\n",
      "165/165 [==============================] - 0s 145us/sample - loss: 6043.4880 - val_loss: 7059.5468\n",
      "Epoch 273/600\n",
      "165/165 [==============================] - ETA: 0s - loss: 4825.29 - 0s 121us/sample - loss: 6031.5492 - val_loss: 7057.6980\n",
      "Epoch 274/600\n",
      "165/165 [==============================] - 0s 132us/sample - loss: 6024.6324 - val_loss: 7056.4084\n",
      "Epoch 275/600\n",
      "165/165 [==============================] - 0s 145us/sample - loss: 6016.8471 - val_loss: 7055.5098\n",
      "Epoch 276/600\n",
      "165/165 [==============================] - 0s 145us/sample - loss: 6010.3356 - val_loss: 7054.7689\n",
      "Epoch 277/600\n",
      "165/165 [==============================] - 0s 121us/sample - loss: 6003.9374 - val_loss: 7054.3343\n",
      "Epoch 278/600\n",
      "165/165 [==============================] - 0s 121us/sample - loss: 5999.7396 - val_loss: 7053.9099\n",
      "Epoch 279/600\n",
      "165/165 [==============================] - 0s 121us/sample - loss: 5994.8313 - val_loss: 7053.6415\n",
      "Epoch 280/600\n",
      "165/165 [==============================] - 0s 121us/sample - loss: 5990.3209 - val_loss: 7053.5026\n",
      "Epoch 281/600\n",
      "165/165 [==============================] - 0s 124us/sample - loss: 5983.7855 - val_loss: 7053.4991\n",
      "Epoch 282/600\n",
      "165/165 [==============================] - 0s 145us/sample - loss: 5979.0570 - val_loss: 7053.5960\n",
      "Epoch 283/600\n"
     ]
    },
    {
     "name": "stdout",
     "output_type": "stream",
     "text": [
      "165/165 [==============================] - 0s 121us/sample - loss: 5975.0725 - val_loss: 7053.8360\n",
      "Epoch 284/600\n",
      "165/165 [==============================] - 0s 121us/sample - loss: 5970.1504 - val_loss: 7054.1461\n",
      "Epoch 285/600\n",
      "165/165 [==============================] - 0s 145us/sample - loss: 5965.7345 - val_loss: 7054.5963\n",
      "Epoch 286/600\n",
      "165/165 [==============================] - 0s 145us/sample - loss: 5960.3828 - val_loss: 7055.3511\n",
      "Epoch 287/600\n",
      "165/165 [==============================] - 0s 121us/sample - loss: 5955.4346 - val_loss: 7056.1720\n",
      "Epoch 288/600\n",
      "165/165 [==============================] - 0s 121us/sample - loss: 5951.7663 - val_loss: 7057.5301\n",
      "Epoch 289/600\n",
      "165/165 [==============================] - 0s 121us/sample - loss: 5946.4819 - val_loss: 7058.6381\n",
      "Epoch 290/600\n",
      "165/165 [==============================] - 0s 145us/sample - loss: 5942.1430 - val_loss: 7059.5068\n",
      "Epoch 291/600\n",
      "165/165 [==============================] - 0s 145us/sample - loss: 5939.2123 - val_loss: 7060.4899\n",
      "Epoch 292/600\n",
      "165/165 [==============================] - 0s 145us/sample - loss: 5937.0817 - val_loss: 7062.0238\n",
      "Epoch 293/600\n",
      "165/165 [==============================] - 0s 145us/sample - loss: 5932.8183 - val_loss: 7063.5546\n",
      "Epoch 294/600\n",
      "165/165 [==============================] - 0s 145us/sample - loss: 5929.2455 - val_loss: 7065.1532\n",
      "Epoch 295/600\n",
      "165/165 [==============================] - 0s 145us/sample - loss: 5927.5803 - val_loss: 7066.7210\n",
      "Epoch 296/600\n",
      "165/165 [==============================] - 0s 145us/sample - loss: 5924.2132 - val_loss: 7067.6817\n",
      "Epoch 00296: early stopping\n"
     ]
    },
    {
     "data": {
      "text/plain": [
       "<tensorflow.python.keras.callbacks.History at 0x15bc6773390>"
      ]
     },
     "execution_count": 82,
     "metadata": {},
     "output_type": "execute_result"
    }
   ],
   "source": [
    "mdl.fit(x=X_train.values, \n",
    "          y=y_train.values, \n",
    "          epochs=600,\n",
    "          validation_data=(X_test.values, y_test.values), verbose=1,\n",
    "          callbacks=[early_stop]\n",
    "          )"
   ]
  },
  {
   "cell_type": "code",
   "execution_count": 83,
   "metadata": {},
   "outputs": [],
   "source": [
    "losses = pd.DataFrame(mdl.history.history)"
   ]
  },
  {
   "cell_type": "code",
   "execution_count": 84,
   "metadata": {},
   "outputs": [
    {
     "data": {
      "text/plain": [
       "<AxesSubplot:>"
      ]
     },
     "execution_count": 84,
     "metadata": {},
     "output_type": "execute_result"
    },
    {
     "data": {
      "image/png": "[encoded data removed]",
      "text/plain": [
       "<Figure size 432x288 with 1 Axes>"
      ]
     },
     "metadata": {
      "needs_background": "light"
     },
     "output_type": "display_data"
    }
   ],
   "source": [
    "losses.plot()"
   ]
  },
  {
   "cell_type": "code",
   "execution_count": 85,
   "metadata": {},
   "outputs": [],
   "source": [
    "dnn_pred = mdl.predict(X_test)"
   ]
  },
  {
   "cell_type": "code",
   "execution_count": 86,
   "metadata": {},
   "outputs": [
    {
     "name": "stdout",
     "output_type": "stream",
     "text": [
      "MAE:  63.64918687608507\n",
      "MSE:  7067.681258026924\n",
      "RMSE:  84.06950254418616\n"
     ]
    }
   ],
   "source": [
    "print('MAE: ',mean_absolute_error(y_test, dnn_pred))\n",
    "print('MSE: ',mean_squared_error(y_test, dnn_pred))\n",
    "print('RMSE: ',mean_squared_error(y_test, dnn_pred)**0.5)"
   ]
  },
  {
   "cell_type": "code",
   "execution_count": 75,
   "metadata": {},
   "outputs": [
    {
     "data": {
      "text/html": [
       "<div>\n",
       "<style scoped>\n",
       "    .dataframe tbody tr th:only-of-type {\n",
       "        vertical-align: middle;\n",
       "    }\n",
       "\n",
       "    .dataframe tbody tr th {\n",
       "        vertical-align: top;\n",
       "    }\n",
       "\n",
       "    .dataframe thead th {\n",
       "        text-align: right;\n",
       "    }\n",
       "</style>\n",
       "<table border=\"1\" class=\"dataframe\">\n",
       "  <thead>\n",
       "    <tr style=\"text-align: right;\">\n",
       "      <th></th>\n",
       "      <th>Head Size(cm^3)</th>\n",
       "      <th>Brain Weight(grams)</th>\n",
       "      <th>gender</th>\n",
       "      <th>age</th>\n",
       "    </tr>\n",
       "  </thead>\n",
       "  <tbody>\n",
       "    <tr>\n",
       "      <th>count</th>\n",
       "      <td>237.000000</td>\n",
       "      <td>237.000000</td>\n",
       "      <td>237.000000</td>\n",
       "      <td>237.000000</td>\n",
       "    </tr>\n",
       "    <tr>\n",
       "      <th>mean</th>\n",
       "      <td>3633.991561</td>\n",
       "      <td>1282.873418</td>\n",
       "      <td>0.434599</td>\n",
       "      <td>0.535865</td>\n",
       "    </tr>\n",
       "    <tr>\n",
       "      <th>std</th>\n",
       "      <td>365.261422</td>\n",
       "      <td>120.340446</td>\n",
       "      <td>0.496753</td>\n",
       "      <td>0.499768</td>\n",
       "    </tr>\n",
       "    <tr>\n",
       "      <th>min</th>\n",
       "      <td>2720.000000</td>\n",
       "      <td>955.000000</td>\n",
       "      <td>0.000000</td>\n",
       "      <td>0.000000</td>\n",
       "    </tr>\n",
       "    <tr>\n",
       "      <th>25%</th>\n",
       "      <td>3389.000000</td>\n",
       "      <td>1207.000000</td>\n",
       "      <td>0.000000</td>\n",
       "      <td>0.000000</td>\n",
       "    </tr>\n",
       "    <tr>\n",
       "      <th>50%</th>\n",
       "      <td>3614.000000</td>\n",
       "      <td>1280.000000</td>\n",
       "      <td>0.000000</td>\n",
       "      <td>1.000000</td>\n",
       "    </tr>\n",
       "    <tr>\n",
       "      <th>75%</th>\n",
       "      <td>3876.000000</td>\n",
       "      <td>1350.000000</td>\n",
       "      <td>1.000000</td>\n",
       "      <td>1.000000</td>\n",
       "    </tr>\n",
       "    <tr>\n",
       "      <th>max</th>\n",
       "      <td>4747.000000</td>\n",
       "      <td>1635.000000</td>\n",
       "      <td>1.000000</td>\n",
       "      <td>1.000000</td>\n",
       "    </tr>\n",
       "  </tbody>\n",
       "</table>\n",
       "</div>"
      ],
      "text/plain": [
       "       Head Size(cm^3)  Brain Weight(grams)      gender         age\n",
       "count       237.000000           237.000000  237.000000  237.000000\n",
       "mean       3633.991561          1282.873418    0.434599    0.535865\n",
       "std         365.261422           120.340446    0.496753    0.499768\n",
       "min        2720.000000           955.000000    0.000000    0.000000\n",
       "25%        3389.000000          1207.000000    0.000000    0.000000\n",
       "50%        3614.000000          1280.000000    0.000000    1.000000\n",
       "75%        3876.000000          1350.000000    1.000000    1.000000\n",
       "max        4747.000000          1635.000000    1.000000    1.000000"
      ]
     },
     "execution_count": 75,
     "metadata": {},
     "output_type": "execute_result"
    }
   ],
   "source": [
    "df.describe()"
   ]
  },
  {
   "cell_type": "code",
   "execution_count": 76,
   "metadata": {},
   "outputs": [
    {
     "name": "stdout",
     "output_type": "stream",
     "text": [
      "Mean Absolute Error Percent:  4.357930398075757\n"
     ]
    }
   ],
   "source": [
    "print('Mean Absolute Error Percent: ', (55.90673065185547/1282.873418) * 100)"
   ]
  },
  {
   "cell_type": "code",
   "execution_count": null,
   "metadata": {},
   "outputs": [],
   "source": [
    "import random\n",
    "random.seed(101)\n",
    "random_ind = random.randint(0,len(df))\n",
    "\n",
    "new_val = df.drop('Brain Weight(grams)',axis=1).iloc[random_ind]\n",
    "new_val"
   ]
  },
  {
   "cell_type": "code",
   "execution_count": null,
   "metadata": {},
   "outputs": [],
   "source": [
    "print('Deep Neural Network: \\n')\n",
    "print('Real Value (grams): \\t\\t', df.iloc[random_ind]['Brain Weight(grams)'])\n",
    "print('Predicted Value (grams): \\t', model.predict(new_val.values.reshape(1,3))[0][0])"
   ]
  },
  {
   "cell_type": "code",
   "execution_count": null,
   "metadata": {},
   "outputs": [],
   "source": [
    "print('Linear Regression: \\n')\n",
    "print('Real Value (grams): \\t\\t', df.iloc[random_ind]['Brain Weight(grams)'])\n",
    "print('Predicted Value (grams): \\t', lm.predict(new_val.values.reshape(1,3))[0])"
   ]
  },
  {
   "cell_type": "code",
   "execution_count": null,
   "metadata": {},
   "outputs": [],
   "source": [
    "sns.lmplot(data=df, x='Head Size(cm^3)',y='Brain Weight(grams)')"
   ]
  },
  {
   "cell_type": "code",
   "execution_count": 77,
   "metadata": {},
   "outputs": [
    {
     "data": {
      "text/plain": [
       "1308"
      ]
     },
     "execution_count": 77,
     "metadata": {},
     "output_type": "execute_result"
    }
   ],
   "source": [
    "from tensorflow import lite\n",
    "converter = lite.TFLiteConverter.from_keras_model(mdl)\n",
    "tfmodel = converter.convert()\n",
    "open (\"model.tflite\" , \"wb\") .write(tfmodel)"
   ]
  }
 ],
 "metadata": {
  "kernelspec": {
   "display_name": "Python 3",
   "language": "python",
   "name": "python3"
  },
  "language_info": {
   "codemirror_mode": {
    "name": "ipython",
    "version": 3
   },
   "file_extension": ".py",
   "mimetype": "text/x-python",
   "name": "python",
   "nbconvert_exporter": "python",
   "pygments_lexer": "ipython3",
   "version": "3.6.12"
  }
 },
 "nbformat": 4,
 "nbformat_minor": 4
}
